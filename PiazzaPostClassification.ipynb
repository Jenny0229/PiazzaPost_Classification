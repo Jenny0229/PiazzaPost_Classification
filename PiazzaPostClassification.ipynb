{
  "nbformat": 4,
  "nbformat_minor": 0,
  "metadata": {
    "colab": {
      "provenance": [],
      "authorship_tag": "ABX9TyNpmGLx3pm7aAcQQkRAb97n",
      "include_colab_link": true
    },
    "kernelspec": {
      "name": "python3",
      "display_name": "Python 3"
    },
    "language_info": {
      "name": "python"
    }
  },
  "cells": [
    {
      "cell_type": "markdown",
      "metadata": {
        "id": "view-in-github",
        "colab_type": "text"
      },
      "source": [
        "<a href=\"https://colab.research.google.com/github/Jenny0229/PiazzaPost_Classification/blob/main/PiazzaPostClassification.ipynb\" target=\"_parent\"><img src=\"https://colab.research.google.com/assets/colab-badge.svg\" alt=\"Open In Colab\"/></a>"
      ]
    },
    {
      "cell_type": "code",
      "execution_count": null,
      "metadata": {
        "id": "Of2bMknoCV5B"
      },
      "outputs": [],
      "source": [
        "import os\n",
        "import numpy as np\n",
        "import pandas as pd\n"
      ]
    },
    {
      "cell_type": "markdown",
      "source": [
        "main goal: train the classifier on w16_projects_exam.csv and sp16.projects.exam.csv(about 3k samples) to predict exam and project tag;  train on w14-f15 instructor_student_csv and w16 instructor_student_csv(~14k example) for instructor/student tag"
      ],
      "metadata": {
        "id": "tcazcVWNH-Uw"
      }
    },
    {
      "cell_type": "code",
      "source": [
        "file_path ="
      ],
      "metadata": {
        "id": "m2eD1oMrNWVz"
      },
      "execution_count": null,
      "outputs": []
    },
    {
      "cell_type": "code",
      "source": [
        "files = ['w16_projects_exam.csv', 'sp16_projects_exam.csv']\n",
        "df = pd.DataFrame()\n",
        "for file in files:\n",
        "    data = pd.read_csv(file)\n",
        "    df = pd.concat([df, data], axis=0)\n",
        "df.to_csv('merged_files.csv', index=False)\n",
        ""
      ],
      "metadata": {
        "id": "vH7OHEVrM-aJ"
      },
      "execution_count": null,
      "outputs": []
    }
  ]
}